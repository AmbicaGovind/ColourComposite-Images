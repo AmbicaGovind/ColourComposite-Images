{
 "cells": [
  {
   "cell_type": "code",
   "execution_count": null,
   "id": "9b9cc72f",
   "metadata": {},
   "outputs": [],
   "source": [
    "\"\"\"\n",
    "The following code creates a 7\"x7\" cutout of the F125W Band of UDS field of HST, around the coordinates \n",
    "(34.37084961, -5.214492798)\n",
    "\n",
    "\"\"\"\n",
    "from astropy.nddata import Cutout2D\n",
    "from astropy import units as u\n",
    "from astropy.io import fits\n",
    "from astropy.wcs import WCS\n",
    "from astropy.coordinates import SkyCoord\n",
    "from astropy.io import fits\n",
    "from astropy.utils.data import get_pkg_data_filename\n",
    "\n",
    "\n",
    "image_file=get_pkg_data_filename(r\"/home/ambica/Desktop/Colour Composite Images Project/F125W.fits\")\n",
    "fits.info(image_file)\n",
    "f=fits.open(image_file)\n",
    "\n",
    "w= WCS(f[0].header)\n",
    "sky=SkyCoord(34.37084961, -5.214492798, unit=\"deg\")\n",
    "position=w.world_to_pixel(sky)\n",
    "size=u.Quantity((7,7),u.arcsec)\n",
    "cutout=Cutout2D(image_data,position,size,wcs=w)\n",
    "plt.imshow(cutout.data,origin='lower')\n",
    "hdu=fits.PrimaryHDU()\n",
    "hdu.data=cutout.data\n",
    "hdu.header=f[0].header\n",
    "hdu.header.update(cutout.wcs.to_header())\n",
    "hdu.writeto('testcutout1.fits',overwrite=True)"
   ]
  }
 ],
 "metadata": {
  "kernelspec": {
   "display_name": "Python 3 (ipykernel)",
   "language": "python",
   "name": "python3"
  },
  "language_info": {
   "codemirror_mode": {
    "name": "ipython",
    "version": 3
   },
   "file_extension": ".py",
   "mimetype": "text/x-python",
   "name": "python",
   "nbconvert_exporter": "python",
   "pygments_lexer": "ipython3",
   "version": "3.9.12"
  }
 },
 "nbformat": 4,
 "nbformat_minor": 5
}
