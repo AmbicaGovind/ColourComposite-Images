{
 "cells": [
  {
   "cell_type": "code",
   "execution_count": null,
   "id": "e4637783",
   "metadata": {},
   "outputs": [],
   "source": [
    "\"\"\"\n",
    "The following piece of code corrects SIP Distortion issues in the FITS File by getting rid of the CTYPE Headers\n",
    "\"\"\"\n",
    "with fits.open(image_file, 'update') as f:\n",
    "    for hdu in f:\n",
    "        i=2\n",
    "        while i<=4:\n",
    "            j=0\n",
    "            while(j<=i):\n",
    "                strng='A_'+str(j)+'_'+str(i-j)\n",
    "                strngb='B_'+str(j)+'_'+str(i-j)\n",
    "                j+=1\n",
    "                del hdu.header[strng]\n",
    "                del hdu.header[strngb]\n",
    "            i+=1\n",
    "print(repr(fits.getheader(image_file,0)))"
   ]
  }
 ],
 "metadata": {
  "kernelspec": {
   "display_name": "Python 3 (ipykernel)",
   "language": "python",
   "name": "python3"
  },
  "language_info": {
   "codemirror_mode": {
    "name": "ipython",
    "version": 3
   },
   "file_extension": ".py",
   "mimetype": "text/x-python",
   "name": "python",
   "nbconvert_exporter": "python",
   "pygments_lexer": "ipython3",
   "version": "3.9.12"
  }
 },
 "nbformat": 4,
 "nbformat_minor": 5
}
