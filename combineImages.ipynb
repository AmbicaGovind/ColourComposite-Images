{
 "cells": [
  {
   "cell_type": "code",
   "execution_count": null,
   "id": "72c8567e",
   "metadata": {},
   "outputs": [],
   "source": [
    "\"\"\"\n",
    "The following piece of code combines 7\"x7\" cutout data from three cutouts from the F125W,F140W,F814W Bands of HST\n",
    "and creates a composite image \n",
    "\"\"\"\n",
    "import aplpy \n",
    "aplpy.make_rgb_cube(['testcutout1.fits','testcutout2.fits','testcutout5.fits'],'cube.fits')\n",
    "aplpy.make_rgb_image('cube.fits','finalimg.jpeg')\n",
    "img=aplpy.FITSFigure('cube_2d.fits')\n",
    "img.add_label(0.1, 0.9, 'Imsize=7\"x7\"',color='yellow', relative=True)\n",
    "img.show_rgb('finalimg.jpeg')"
   ]
  }
 ],
 "metadata": {
  "kernelspec": {
   "display_name": "Python 3 (ipykernel)",
   "language": "python",
   "name": "python3"
  },
  "language_info": {
   "codemirror_mode": {
    "name": "ipython",
    "version": 3
   },
   "file_extension": ".py",
   "mimetype": "text/x-python",
   "name": "python",
   "nbconvert_exporter": "python",
   "pygments_lexer": "ipython3",
   "version": "3.9.12"
  }
 },
 "nbformat": 4,
 "nbformat_minor": 5
}
